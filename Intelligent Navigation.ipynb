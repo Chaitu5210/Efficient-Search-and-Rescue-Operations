{
 "cells": [
  {
   "cell_type": "code",
   "execution_count": 1,
   "id": "523d228c",
   "metadata": {},
   "outputs": [],
   "source": [
    "import math\n",
    "import heapq\n",
    "import matplotlib.pyplot as plt\n",
    "import numpy as np\n",
    "from typing import List, Tuple"
   ]
  },
  {
   "cell_type": "markdown",
   "id": "ae9f8e6b",
   "metadata": {},
   "source": [
    "Calculate the Euclidean distance between two points"
   ]
  },
  {
   "cell_type": "code",
   "execution_count": 2,
   "id": "8d0434e6",
   "metadata": {},
   "outputs": [],
   "source": [
    "def euclidean_distance(point1: Tuple[float, float], point2: Tuple[float, float]) -> float:\n",
    "    x1, y1 = point1\n",
    "    x2, y2 = point2                      \n",
    "    return math.sqrt((x2 - x1) ** 2 + (y2 - y1) ** 2)"
   ]
  },
  {
   "cell_type": "markdown",
   "id": "3a285894",
   "metadata": {},
   "source": [
    "Calculate the weighted distance for a given point"
   ]
  },
  {
   "cell_type": "code",
   "execution_count": 3,
   "id": "15334a98",
   "metadata": {},
   "outputs": [],
   "source": [
    "def calculate_weighted_distance(point: Tuple[float, float], critical_value: float) -> float:\n",
    "    return 1 / critical_value"
   ]
  },
  {
   "cell_type": "markdown",
   "id": "2d655598",
   "metadata": {},
   "source": [
    "Visualize the path on the matrix."
   ]
  },
  {
   "cell_type": "code",
   "execution_count": 4,
   "id": "bebf7449",
   "metadata": {},
   "outputs": [],
   "source": [
    "def visualize_path(matrix: List[List[float]], path: List[Tuple[int, int]], starting_point: Tuple[int, int]) -> None:\n",
    "\n",
    "    matrix_np = np.array(matrix)\n",
    "    fig, ax = plt.subplots()\n",
    "    cax = ax.matshow(matrix_np, cmap='viridis', interpolation='nearest')\n",
    "    fig.colorbar(cax)\n",
    "\n",
    "    path_x, path_y = zip(*path)\n",
    "    ax.plot(path_y, path_x, marker='o', color='r', linestyle='-', markersize=8)\n",
    "\n",
    "    ax.set_xlabel('X-axis')\n",
    "    ax.set_ylabel('Y-axis')\n",
    "    ax.set_title('Path Visualization')\n",
    "\n",
    "    plt.show()"
   ]
  },
  {
   "cell_type": "code",
   "execution_count": 5,
   "id": "b7771922",
   "metadata": {},
   "outputs": [],
   "source": [
    "def main(matrix: List[List[float]], starting_point: Tuple[int, int]) -> None:\n",
    "    coordinates = []\n",
    "    critical_values = {}\n",
    "    for x in range(len(matrix)):\n",
    "        for y in range(len(matrix[0])):\n",
    "            if matrix[x][y] != 0:\n",
    "                coordinates.append((x, y))\n",
    "                critical_values[(x, y)] = matrix[x][y]\n",
    "\n",
    "    seen = set()\n",
    "    path = [starting_point]\n",
    "    heap = [(0, starting_point)]\n",
    "\n",
    "    while len(seen) < len(coordinates):\n",
    "        _, current_point = heapq.heappop(heap)\n",
    "        if current_point in seen:\n",
    "            continue\n",
    "        seen.add(current_point)\n",
    "\n",
    "        for coord in coordinates:\n",
    "            if coord not in seen:\n",
    "                distance = euclidean_distance(current_point, coord)\n",
    "                weighted_dist = distance * calculate_weighted_distance(coord, critical_values[coord])\n",
    "                heapq.heappush(heap, (weighted_dist, coord))\n",
    "                path.append(coord)\n",
    "\n",
    "    print(\"Order of visited points:\")\n",
    "    for point in path:\n",
    "        if point != starting_point:\n",
    "            print(point)\n",
    "\n",
    "    visualize_path(matrix, path, starting_point)"
   ]
  },
  {
   "cell_type": "markdown",
   "id": "faecb66d",
   "metadata": {},
   "source": [
    "Example usage"
   ]
  },
  {
   "cell_type": "code",
   "execution_count": 6,
   "id": "c0e57c43",
   "metadata": {},
   "outputs": [
    {
     "name": "stdout",
     "output_type": "stream",
     "text": [
      "Order of visited points:\n",
      "(2, 6)\n",
      "(2, 15)\n",
      "(3, 2)\n",
      "(3, 4)\n",
      "(4, 8)\n",
      "(5, 4)\n",
      "(6, 10)\n",
      "(7, 8)\n",
      "(2, 6)\n",
      "(2, 15)\n",
      "(3, 4)\n",
      "(4, 8)\n",
      "(5, 4)\n",
      "(6, 10)\n",
      "(7, 8)\n",
      "(2, 6)\n",
      "(2, 15)\n",
      "(3, 4)\n",
      "(4, 8)\n",
      "(6, 10)\n",
      "(7, 8)\n",
      "(2, 6)\n",
      "(2, 15)\n",
      "(4, 8)\n",
      "(6, 10)\n",
      "(7, 8)\n",
      "(2, 6)\n",
      "(2, 15)\n",
      "(6, 10)\n",
      "(7, 8)\n",
      "(2, 6)\n",
      "(6, 10)\n",
      "(7, 8)\n",
      "(2, 6)\n",
      "(6, 10)\n",
      "(6, 10)\n"
     ]
    },
    {
     "data": {
      "image/png": "[encoded data removed]",
      "text/plain": [
       "<Figure size 640x480 with 2 Axes>"
      ]
     },
     "metadata": {},
     "output_type": "display_data"
    }
   ],
   "source": [
    "if __name__ == \"__main__\":\n",
    "    matrix = [\n",
    "        [0. , 0. , 0. , 0. , 0. , 0. , 0. , 0. , 0. , 0. , 0. , 0. , 0. , 0. , 0. , 0. , 0. , 0. , 0. , 0. ],\n",
    "        [0. , 0. , 0. , 0. , 0. , 0. , 0. , 0. , 0. , 0. , 0. , 0. , 0. , 0. , 0. , 0. , 0. , 0. , 0. , 0. ],\n",
    "        [0. , 0. , 0. , 0. , 0. , 0. , 0.2 , 0. , 0. , 0. , 0. , 0. , 0. , 0. , 0. , 1. , 0. , 0. , 0. , 0. ],\n",
    "        [0. , 0. , 0.7 , 0. , 0.4 , 0. , 0. , 0. , 0. , 0. , 0. , 0. , 0. , 0. , 0. , 0. , 0. , 0. , 0. , 0. ],\n",
    "        [0. , 0. , 0. , 0. , 0. , 0. , 0. , 0. , 0.7 , 0. , 0. , 0. , 0. , 0. , 0. , 0. , 0. , 0. , 0. , 0. ],\n",
    "        [0. , 0. , 0. , 0. , 0.9 , 0. , 0. , 0. , 0. , 0. , 0. , 0. , 0. , 0. , 0. , 0. , 0. , 0. , 0. , 0. ],\n",
    "        [0. , 0. , 0. , 0. , 0. , 0. , 0. , 0. , 0. , 0. , 0.01, 0. , 0. , 0. , 0. , 0. , 0. , 0. , 0. , 0. ],\n",
    "        [0. , 0. , 0. , 0. , 0. , 0. , 0. , 0. , 0.32, 0. , 0. , 0. , 0. , 0. , 0. , 0. , 0. , 0. , 0. , 0. ],\n",
    "        [0. , 0. , 0. , 0. , 0. , 0. , 0. , 0. , 0. , 0. , 0. , 0. , 0. , 0. , 0. , 0. , 0. , 0. , 0. , 0. ]\n",
    "    ]\n",
    "    starting_point = (0, 0)\n",
    "    main(matrix, starting_point)"
   ]
  },
  {
   "cell_type": "code",
   "execution_count": null,
   "id": "fa0c2276",
   "metadata": {},
   "outputs": [],
   "source": []
  }
 ],
 "metadata": {
  "kernelspec": {
   "display_name": "Python 3 (ipykernel)",
   "language": "python",
   "name": "python3"
  },
  "language_info": {
   "codemirror_mode": {
    "name": "ipython",
    "version": 3
   },
   "file_extension": ".py",
   "mimetype": "text/x-python",
   "name": "python",
   "nbconvert_exporter": "python",
   "pygments_lexer": "ipython3",
   "version": "3.11.4"
  }
 },
 "nbformat": 4,
 "nbformat_minor": 5
}
